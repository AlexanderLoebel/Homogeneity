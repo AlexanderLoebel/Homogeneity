{
 "cells": [
  {
   "cell_type": "markdown",
   "id": "3d22f519",
   "metadata": {},
   "source": [
    "# This notebook \n",
    "\n",
    "In this notebook are items that were checked outside of the data-analysis notebook, mainly to test issues or examine how they behave for the specifics of the data. For example, many of the features are inbalanced with many more zero than non-zero values. "
   ]
  },
  {
   "cell_type": "markdown",
   "id": "cf0d10cb",
   "metadata": {},
   "source": [
    "## How correlation coefficient is affected by zeros \n",
    "\n",
    "- The raw feature data is highly imbalanced in the sense that for most features, there are a lot more zero values than non-zero values. This is also true for the target data, e.g., predicted revenue. \n",
    "- The correlation coefficient of two arrays can be strongly influenced by this. A few examples are shown below. \n",
    "- The question is then: how to properly estimate the correlation between the different variables? between the features, and between the features and the target."
   ]
  },
  {
   "cell_type": "code",
   "execution_count": 1,
   "id": "b49079ae",
   "metadata": {},
   "outputs": [],
   "source": [
    "import numpy as np\n",
    "import matplotlib.pyplot as plt"
   ]
  },
  {
   "cell_type": "code",
   "execution_count": 101,
   "id": "a99f9749",
   "metadata": {},
   "outputs": [],
   "source": [
    "def check_corr_coef_matched(x, y): \n",
    "    \n",
    "    r = []\n",
    "    ratio_of_padding = []\n",
    "    \n",
    "    for num_of_zeros in range(1, 1000):\n",
    "        x_dummy = np.pad(x, (num_of_zeros, 0), 'constant', constant_values=(0, 0))\n",
    "        y_dummy = np.pad(y, (num_of_zeros, 0), 'constant', constant_values=(0, 0))\n",
    "        r.append(np.corrcoef(x_dummy, y_dummy)[0][1])\n",
    "        ratio_of_padding.append(len(x)/num_of_zeros)\n",
    "        \n",
    "    \n",
    "    return r, ratio_of_padding    "
   ]
  },
  {
   "cell_type": "code",
   "execution_count": 117,
   "id": "602a4c95",
   "metadata": {},
   "outputs": [],
   "source": [
    "def check_corr_coef_not_matched(x, y, mu, sigma, prob = 0.1): \n",
    "    \n",
    "    r = []\n",
    "    ratio_of_padding = []\n",
    "    \n",
    "    for num_of_zeros in range(1, 1000):\n",
    "        x_dummy = np.pad(x, (num_of_zeros, 0), 'constant', constant_values=(0, 0))\n",
    "        y_dummy = np.pad(y, (num_of_zeros, 0), 'constant', constant_values=(0, 0))\n",
    "        \n",
    "        for k in range(num_of_zeros):\n",
    "            if np.random.uniform(0,1) < prob:\n",
    "                y_dummy[k] = np.random.normal(mu, sigma, 1)[0]\n",
    "        \n",
    "        r.append(np.corrcoef(x_dummy, y_dummy)[0][1])\n",
    "        ratio_of_padding.append(len(x)/num_of_zeros)\n",
    "        \n",
    "    \n",
    "    return r, ratio_of_padding   "
   ]
  },
  {
   "cell_type": "code",
   "execution_count": 88,
   "id": "58add2a9",
   "metadata": {},
   "outputs": [],
   "source": [
    "mu, sigma = 0, 3"
   ]
  },
  {
   "cell_type": "code",
   "execution_count": 95,
   "id": "c26215bb",
   "metadata": {},
   "outputs": [
    {
     "name": "stdout",
     "output_type": "stream",
     "text": [
      "[10 11 12 13 14 15 16 17 18 19]\n",
      "[13.402502773032753, 10.58666927691781, 6.36120424521987, 14.895940515068066, 10.388621908630308, 16.00164265369218, 16.547003521180567, 13.510031175730177, 13.109012961521131, 18.01851999194665]\n"
     ]
    }
   ],
   "source": [
    "x = np.arange(10, 20)\n",
    "# y = np.array([2, 1, 4, 5, 8, 12, 18, 25, 96, 48])\n",
    "y = [k + np.random.normal(mu, sigma, 1)[0] for k in x]\n",
    "print(x)\n",
    "print(y)"
   ]
  },
  {
   "cell_type": "code",
   "execution_count": 96,
   "id": "6ad0aaa2",
   "metadata": {},
   "outputs": [
    {
     "name": "stdout",
     "output_type": "stream",
     "text": [
      "[[1.         0.56221753]\n",
      " [0.56221753 1.        ]]\n"
     ]
    }
   ],
   "source": [
    "actual_corr = np.corrcoef(x, y)\n",
    "print(actual_corr)"
   ]
  },
  {
   "cell_type": "code",
   "execution_count": 97,
   "id": "61dd3973",
   "metadata": {},
   "outputs": [
    {
     "data": {
      "image/png": "[encoded data removed]",
      "text/plain": [
       "<Figure size 432x288 with 1 Axes>"
      ]
     },
     "metadata": {
      "needs_background": "light"
     },
     "output_type": "display_data"
    }
   ],
   "source": [
    "plt.plot(x, y, '.')\n",
    "plt.show()"
   ]
  },
  {
   "cell_type": "code",
   "execution_count": 98,
   "id": "b9cefe57",
   "metadata": {},
   "outputs": [],
   "source": [
    "r, ratio_of_padding = check_corr_coef_matched(x, y)"
   ]
  },
  {
   "cell_type": "code",
   "execution_count": 99,
   "id": "929c671a",
   "metadata": {},
   "outputs": [],
   "source": [
    "r.append(actual_corr[0][1])\n",
    "ratio_of_padding.append(11)"
   ]
  },
  {
   "cell_type": "code",
   "execution_count": 100,
   "id": "55c74049",
   "metadata": {},
   "outputs": [
    {
     "data": {
      "image/png": "[encoded data removed]",
      "text/plain": [
       "<Figure size 432x288 with 1 Axes>"
      ]
     },
     "metadata": {
      "needs_background": "light"
     },
     "output_type": "display_data"
    }
   ],
   "source": [
    "plt.plot(ratio_of_padding, r, '.')\n",
    "plt.show()"
   ]
  },
  {
   "cell_type": "markdown",
   "id": "5fbac2ab",
   "metadata": {},
   "source": [
    "As can be seen, when the zeros in both arrays are perfectly matched, the correlation coefficient increases with the number of zeros. The value at x = 11 is the correlation of the non-padded arrays. "
   ]
  },
  {
   "cell_type": "code",
   "execution_count": 118,
   "id": "8ea53229",
   "metadata": {},
   "outputs": [],
   "source": [
    "r_not_matched, ratio_of_padding_not_matched = check_corr_coef_not_matched(x, y, mu, sigma)"
   ]
  },
  {
   "cell_type": "code",
   "execution_count": 119,
   "id": "ebe5734f",
   "metadata": {},
   "outputs": [],
   "source": [
    "r_not_matched.append(actual_corr[0][1])\n",
    "ratio_of_padding_not_matched.append(11)"
   ]
  },
  {
   "cell_type": "code",
   "execution_count": 120,
   "id": "d934d1c3",
   "metadata": {},
   "outputs": [
    {
     "data": {
      "image/png": "[encoded data removed]",
      "text/plain": [
       "<Figure size 432x288 with 1 Axes>"
      ]
     },
     "metadata": {
      "needs_background": "light"
     },
     "output_type": "display_data"
    }
   ],
   "source": [
    "plt.plot(ratio_of_padding_not_matched, r_not_matched, '.')\n",
    "plt.show()"
   ]
  },
  {
   "cell_type": "markdown",
   "id": "cb5bcb0c",
   "metadata": {},
   "source": [
    "If 10% of the padded zero values in one array are matched with non-zero values at the other array, it strongly impact the correlation from when the ratio of the padding to the original size array (here it is len(x) = len(y) = 10) is lower than 1 -> the padding is higher than 10 (so now x is = [0 0 0 0 0 0 0 0 0 0] + x). "
   ]
  },
  {
   "cell_type": "code",
   "execution_count": 121,
   "id": "1535ced4",
   "metadata": {},
   "outputs": [],
   "source": [
    "r_not_matched, ratio_of_padding_not_matched = check_corr_coef_not_matched(x, y, mu, sigma, prob = 0.5)"
   ]
  },
  {
   "cell_type": "code",
   "execution_count": 122,
   "id": "894e6e1b",
   "metadata": {},
   "outputs": [],
   "source": [
    "r_not_matched.append(actual_corr[0][1])\n",
    "ratio_of_padding_not_matched.append(11)"
   ]
  },
  {
   "cell_type": "code",
   "execution_count": 123,
   "id": "ff925110",
   "metadata": {},
   "outputs": [
    {
     "data": {
      "image/png": "[encoded data removed]",
      "text/plain": [
       "<Figure size 432x288 with 1 Axes>"
      ]
     },
     "metadata": {
      "needs_background": "light"
     },
     "output_type": "display_data"
    }
   ],
   "source": [
    "plt.plot(ratio_of_padding_not_matched, r_not_matched, '.')\n",
    "plt.show()"
   ]
  },
  {
   "cell_type": "markdown",
   "id": "f2d7c915",
   "metadata": {},
   "source": [
    "And this is how it looks for when 50% of the padded zero are not matched. Obviously, the correlation goes down. "
   ]
  },
  {
   "cell_type": "markdown",
   "id": "508ba49a",
   "metadata": {},
   "source": [
    "## Log histograms"
   ]
  },
  {
   "cell_type": "code",
   "execution_count": 6,
   "id": "f61b431e",
   "metadata": {},
   "outputs": [
    {
     "data": {
      "image/png": "[encoded data removed]",
      "text/plain": [
       "<Figure size 648x792 with 2 Axes>"
      ]
     },
     "metadata": {
      "needs_background": "light"
     },
     "output_type": "display_data"
    }
   ],
   "source": [
    "# Preparing the data for the plots\n",
    "np.random.seed(217)\n",
    "x = np.random.exponential(1, 10000)\n",
    "nbins = 15\n",
    "\n",
    "# Resizing the figure\n",
    "plt.figure(figsize=[9, 11])\n",
    "\n",
    "# Plotting the histogram without log scale\n",
    "plt.subplot(211)\n",
    "plt.hist(x, bins=nbins)\n",
    "plt.title('Histogram', fontsize=15)\n",
    "plt.xlabel('x-axis (bins)', fontsize=13)\n",
    "plt.ylabel('y-axis (Heights)', fontsize=13)\n",
    " \n",
    "# Plotting the histogram on log scale \n",
    "plt.subplot(212)\n",
    "counts, bins, bars = plt.hist(x, bins=nbins, log=True, color='g')\n",
    "plt.title('Histogram on log scale', fontsize=15)\n",
    "plt.xlabel('x-axis (bins)', fontsize=13)\n",
    "plt.ylabel('log(y): log(Heights)', fontsize=13)\n",
    "\n",
    "plt.tight_layout()\n",
    "plt.show()"
   ]
  },
  {
   "cell_type": "code",
   "execution_count": 13,
   "id": "e8a271c6",
   "metadata": {},
   "outputs": [
    {
     "data": {
      "text/plain": [
       "(15,)"
      ]
     },
     "execution_count": 13,
     "metadata": {},
     "output_type": "execute_result"
    }
   ],
   "source": [
    "counts.shape"
   ]
  },
  {
   "cell_type": "code",
   "execution_count": 18,
   "id": "b5b17041",
   "metadata": {},
   "outputs": [
    {
     "data": {
      "text/plain": [
       "array([3.13723793e-06, 6.19088877e-01, 1.23817462e+00, 1.85726036e+00,\n",
       "       2.47634610e+00, 3.09543184e+00, 3.71451758e+00, 4.33360332e+00,\n",
       "       4.95268906e+00, 5.57177480e+00, 6.19086054e+00, 6.80994628e+00,\n",
       "       7.42903202e+00, 8.04811776e+00, 8.66720350e+00, 9.28628924e+00])"
      ]
     },
     "execution_count": 18,
     "metadata": {},
     "output_type": "execute_result"
    }
   ],
   "source": [
    "bins"
   ]
  },
  {
   "cell_type": "code",
   "execution_count": 17,
   "id": "cf2cb8f3",
   "metadata": {},
   "outputs": [
    {
     "name": "stdout",
     "output_type": "stream",
     "text": [
      "[0.30954600726697906, 0.9286317473250789, 1.5477174873831787, 2.166803227441279, 2.7858889674993783, 3.4049747075574786, 4.024060447615579, 4.643146187673678, 5.262231927731778, 5.881317667789878, 6.500403407847978, 7.119489147906078, 7.7385748879641785, 8.357660628022277, 8.976746368080377]\n"
     ]
    }
   ],
   "source": [
    "bins_center = []\n",
    "for k in range(len(bins) - 1):\n",
    "    bins_center.append((bins[k] + bins[k+1])/2)\n",
    "\n",
    "print(bins_center)"
   ]
  },
  {
   "cell_type": "code",
   "execution_count": 37,
   "id": "5e786339",
   "metadata": {},
   "outputs": [
    {
     "data": {
      "image/png": "[encoded data removed]",
      "text/plain": [
       "<Figure size 432x288 with 1 Axes>"
      ]
     },
     "metadata": {
      "needs_background": "light"
     },
     "output_type": "display_data"
    }
   ],
   "source": [
    "plt.scatter(bins_center, counts)\n",
    "plt.yscale('log')"
   ]
  },
  {
   "cell_type": "code",
   "execution_count": 33,
   "id": "15fe9f57",
   "metadata": {},
   "outputs": [
    {
     "name": "stdout",
     "output_type": "stream",
     "text": [
      "-0.9866521714697215 8.679377087848549\n"
     ]
    }
   ],
   "source": [
    "model = np.polyfit(bins_center, np.log(counts), 1)\n",
    "slope = model[0]\n",
    "intercept = model[1]\n",
    "print(slope, intercept)"
   ]
  },
  {
   "cell_type": "code",
   "execution_count": 48,
   "id": "e8eee1aa",
   "metadata": {},
   "outputs": [
    {
     "data": {
      "image/png": "[encoded data removed]",
      "text/plain": [
       "<Figure size 432x288 with 1 Axes>"
      ]
     },
     "metadata": {
      "needs_background": "light"
     },
     "output_type": "display_data"
    }
   ],
   "source": [
    "plt.scatter(bins_center, np.log(counts))\n",
    "plt.plot(bins_center, [(slope*k + intercept) for k in bins_center])\n",
    "plt.ylabel('log(counts)')\n",
    "plt.text(0.05, 0.05, 'Slope = {:.2}'.format(slope))\n",
    "plt.show()"
   ]
  },
  {
   "cell_type": "markdown",
   "id": "9c5bf444",
   "metadata": {},
   "source": [
    "## Log - Log histograms"
   ]
  },
  {
   "cell_type": "code",
   "execution_count": 49,
   "id": "0cfd678b",
   "metadata": {},
   "outputs": [],
   "source": [
    "a = 5. # shape\n",
    "samples = 1000\n",
    "s = np.random.power(a, samples)"
   ]
  },
  {
   "cell_type": "code",
   "execution_count": 51,
   "id": "dd82e164",
   "metadata": {},
   "outputs": [
    {
     "data": {
      "image/png": "[encoded data removed]",
      "text/plain": [
       "<Figure size 432x288 with 1 Axes>"
      ]
     },
     "metadata": {
      "needs_background": "light"
     },
     "output_type": "display_data"
    }
   ],
   "source": [
    "count, bins, ignored = plt.hist(s, bins=30)\n",
    "x = np.linspace(0, 1, 100)\n",
    "y = a*x**(a-1.)\n",
    "normed_y = samples*np.diff(bins)[0]*y\n",
    "plt.plot(x, normed_y)\n",
    "plt.show()"
   ]
  },
  {
   "cell_type": "code",
   "execution_count": 52,
   "id": "25d713e7",
   "metadata": {},
   "outputs": [
    {
     "data": {
      "image/png": "[encoded data removed]",
      "text/plain": [
       "<Figure size 432x288 with 1 Axes>"
      ]
     },
     "metadata": {
      "needs_background": "light"
     },
     "output_type": "display_data"
    }
   ],
   "source": [
    "plt.plot(x, y)\n",
    "plt.show()"
   ]
  },
  {
   "cell_type": "code",
   "execution_count": 53,
   "id": "35a37ff8",
   "metadata": {},
   "outputs": [
    {
     "data": {
      "image/png": "[encoded data removed]",
      "text/plain": [
       "<Figure size 432x288 with 1 Axes>"
      ]
     },
     "metadata": {
      "needs_background": "light"
     },
     "output_type": "display_data"
    }
   ],
   "source": [
    "plt.loglog(x, y)\n",
    "plt.show()"
   ]
  },
  {
   "cell_type": "markdown",
   "id": "32d4b786",
   "metadata": {},
   "source": [
    "# Mutual Information "
   ]
  },
  {
   "cell_type": "markdown",
   "id": "65df3b1c",
   "metadata": {},
   "source": [
    "The following example was adapted from [here](https://stackoverflow.com/questions/70820610/discrete-features-parameter-in-sklearn-feature-selection-mutual-info-classif) on stockoverflow.   \n",
    "Comment: in this case, with the target and cat_feature being random, the result of 0 mutual information actually make more sense than any positive number. "
   ]
  },
  {
   "cell_type": "code",
   "execution_count": 6,
   "id": "848f7072",
   "metadata": {},
   "outputs": [],
   "source": [
    "from sklearn.feature_selection import mutual_info_classif\n",
    "from time import time\n",
    "from scipy.sparse import csr_matrix\n",
    "import numpy as np"
   ]
  },
  {
   "cell_type": "markdown",
   "id": "3c0272c0",
   "metadata": {},
   "source": [
    "If we set the flag discrete_features = 'auto', it will determine that discrete_features = True if the input is sparse; and if the input is dense it will treat it as continuous.\n",
    "\n",
    "For example:"
   ]
  },
  {
   "cell_type": "code",
   "execution_count": 3,
   "id": "ea102f47",
   "metadata": {},
   "outputs": [],
   "source": [
    "np.random.seed(111)"
   ]
  },
  {
   "cell_type": "code",
   "execution_count": 4,
   "id": "3eab5c66",
   "metadata": {},
   "outputs": [],
   "source": [
    "target = np.random.binomial(1,0.5,20)\n",
    "cat_feature = np.random.binomial(3,0.5,(20,2))"
   ]
  },
  {
   "cell_type": "code",
   "execution_count": 8,
   "id": "beb4cf9e",
   "metadata": {},
   "outputs": [
    {
     "name": "stdout",
     "output_type": "stream",
     "text": [
      "[1 0 0 1 0 0 0 0 0 0 1 0 0 1 1 0 0 0 0 1]\n",
      "[[2 2]\n",
      " [2 3]\n",
      " [2 2]\n",
      " [1 0]\n",
      " [1 0]\n",
      " [2 2]\n",
      " [2 1]\n",
      " [3 1]\n",
      " [2 1]\n",
      " [1 2]\n",
      " [1 1]\n",
      " [1 3]\n",
      " [3 2]\n",
      " [0 3]\n",
      " [3 2]\n",
      " [1 3]\n",
      " [1 1]\n",
      " [0 0]\n",
      " [0 1]\n",
      " [0 1]]\n"
     ]
    }
   ],
   "source": [
    "print(target)\n",
    "print(cat_feature)"
   ]
  },
  {
   "cell_type": "code",
   "execution_count": 9,
   "id": "d94840c9",
   "metadata": {},
   "outputs": [
    {
     "data": {
      "text/plain": [
       "array([0.03219502, 0.00257154])"
      ]
     },
     "execution_count": 9,
     "metadata": {},
     "output_type": "execute_result"
    }
   ],
   "source": [
    "mutual_info_classif(cat_feature, target, discrete_features=True)"
   ]
  },
  {
   "cell_type": "markdown",
   "id": "804c2e45",
   "metadata": {},
   "source": [
    "it's different from specifying it False :"
   ]
  },
  {
   "cell_type": "code",
   "execution_count": 10,
   "id": "9d60aa63",
   "metadata": {},
   "outputs": [
    {
     "data": {
      "text/plain": [
       "array([0.00565161, 0.        ])"
      ]
     },
     "execution_count": 10,
     "metadata": {},
     "output_type": "execute_result"
    }
   ],
   "source": [
    "mutual_info_classif(cat_feature, target, discrete_features=False)"
   ]
  },
  {
   "cell_type": "markdown",
   "id": "35e6a552",
   "metadata": {},
   "source": [
    "Now if we use 'auto' its the same as discrete_features=False since the input is dense:"
   ]
  },
  {
   "cell_type": "code",
   "execution_count": 11,
   "id": "ac804d71",
   "metadata": {},
   "outputs": [
    {
     "data": {
      "text/plain": [
       "array([0, 0])"
      ]
     },
     "execution_count": 11,
     "metadata": {},
     "output_type": "execute_result"
    }
   ],
   "source": [
    "mutual_info_classif(cat_feature, target, discrete_features='auto')"
   ]
  },
  {
   "cell_type": "markdown",
   "id": "c2cd4072",
   "metadata": {},
   "source": [
    "We can make the input sparse, and get the same output as when we specify discrete = True:"
   ]
  },
  {
   "cell_type": "code",
   "execution_count": 12,
   "id": "f1c1902a",
   "metadata": {},
   "outputs": [
    {
     "name": "stdout",
     "output_type": "stream",
     "text": [
      "<class 'scipy.sparse.csr.csr_matrix'>\n"
     ]
    },
    {
     "data": {
      "text/plain": [
       "array([0.03219502, 0.00257154])"
      ]
     },
     "execution_count": 12,
     "metadata": {},
     "output_type": "execute_result"
    }
   ],
   "source": [
    "cat_feature = csr_matrix(cat_feature)\n",
    "print(type(cat_feature))\n",
    "\n",
    "mutual_info_classif(cat_feature, target, discrete_features=\"auto\")"
   ]
  },
  {
   "cell_type": "markdown",
   "id": "6ddb126b",
   "metadata": {},
   "source": [
    "You have this option because we often one-hot encode categorical features, and a sparse matrix is more suitable given the amount of zeros."
   ]
  },
  {
   "cell_type": "markdown",
   "id": "f014924c",
   "metadata": {},
   "source": [
    "# Density Scatter Plot"
   ]
  },
  {
   "cell_type": "code",
   "execution_count": 4,
   "id": "dec0cf9f",
   "metadata": {},
   "outputs": [
    {
     "data": {
      "image/png": "[encoded data removed]",
      "text/plain": [
       "<Figure size 432x288 with 1 Axes>"
      ]
     },
     "metadata": {
      "needs_background": "light"
     },
     "output_type": "display_data"
    }
   ],
   "source": [
    "import numpy as np\n",
    "import matplotlib.pyplot as plt\n",
    "from scipy.stats import gaussian_kde\n",
    "\n",
    "# Generate fake data\n",
    "x = np.random.normal(size=1000)\n",
    "y = x * 3 + np.random.normal(size=1000)\n",
    "\n",
    "# Calculate the point density\n",
    "xy = np.vstack([x,y])\n",
    "z = gaussian_kde(xy)(xy)\n",
    "\n",
    "# Sort the points by density, so that the densest points are plotted last\n",
    "idx = z.argsort()\n",
    "x, y, z = x[idx], y[idx], z[idx]\n",
    "\n",
    "fig, ax = plt.subplots()\n",
    "ax.scatter(x, y, c=z, s=50)\n",
    "plt.show()"
   ]
  }
 ],
 "metadata": {
  "kernelspec": {
   "display_name": "Python 3",
   "language": "python",
   "name": "python3"
  },
  "language_info": {
   "codemirror_mode": {
    "name": "ipython",
    "version": 3
   },
   "file_extension": ".py",
   "mimetype": "text/x-python",
   "name": "python",
   "nbconvert_exporter": "python",
   "pygments_lexer": "ipython3",
   "version": "3.8.8"
  }
 },
 "nbformat": 4,
 "nbformat_minor": 5
}
