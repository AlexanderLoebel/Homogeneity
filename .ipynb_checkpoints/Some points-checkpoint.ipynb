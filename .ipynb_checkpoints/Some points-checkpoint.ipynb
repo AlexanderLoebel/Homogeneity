{
 "cells": [
  {
   "cell_type": "markdown",
   "id": "3d22f519",
   "metadata": {},
   "source": [
    "# This notebook \n",
    "\n",
    "In this notebook are items that were checked outside of the data-analysis notebook, mainly to test issues or examine how they behave for the specifics of the data. For example, many of the features are inbalanced with many more zero than non-zero values. "
   ]
  },
  {
   "cell_type": "markdown",
   "id": "cf0d10cb",
   "metadata": {},
   "source": [
    "## How correlation coefficient is affected by zeros \n",
    "\n",
    "- The raw feature data is highly imbalanced in the sense that for most features, there are a lot more zero values than non-zero values. This is also true for the target data, e.g., predicted revenue. \n",
    "- The correlation coefficient of two arrays can be strongly influenced by this. A few examples are shown below. \n",
    "- The question is then: how to properly estimate the correlation between the different variables? between the features, and between the features and the target."
   ]
  },
  {
   "cell_type": "code",
   "execution_count": 84,
   "id": "b49079ae",
   "metadata": {},
   "outputs": [],
   "source": [
    "import numpy as np\n",
    "import matplotlib.pyplot as plt"
   ]
  },
  {
   "cell_type": "code",
   "execution_count": 101,
   "id": "a99f9749",
   "metadata": {},
   "outputs": [],
   "source": [
    "def check_corr_coef_matched(x, y): \n",
    "    \n",
    "    r = []\n",
    "    ratio_of_padding = []\n",
    "    \n",
    "    for num_of_zeros in range(1, 1000):\n",
    "        x_dummy = np.pad(x, (num_of_zeros, 0), 'constant', constant_values=(0, 0))\n",
    "        y_dummy = np.pad(y, (num_of_zeros, 0), 'constant', constant_values=(0, 0))\n",
    "        r.append(np.corrcoef(x_dummy, y_dummy)[0][1])\n",
    "        ratio_of_padding.append(len(x)/num_of_zeros)\n",
    "        \n",
    "    \n",
    "    return r, ratio_of_padding    "
   ]
  },
  {
   "cell_type": "code",
   "execution_count": 117,
   "id": "602a4c95",
   "metadata": {},
   "outputs": [],
   "source": [
    "def check_corr_coef_not_matched(x, y, mu, sigma, prob = 0.1): \n",
    "    \n",
    "    r = []\n",
    "    ratio_of_padding = []\n",
    "    \n",
    "    for num_of_zeros in range(1, 1000):\n",
    "        x_dummy = np.pad(x, (num_of_zeros, 0), 'constant', constant_values=(0, 0))\n",
    "        y_dummy = np.pad(y, (num_of_zeros, 0), 'constant', constant_values=(0, 0))\n",
    "        \n",
    "        for k in range(num_of_zeros):\n",
    "            if np.random.uniform(0,1) < prob:\n",
    "                y_dummy[k] = np.random.normal(mu, sigma, 1)[0]\n",
    "        \n",
    "        r.append(np.corrcoef(x_dummy, y_dummy)[0][1])\n",
    "        ratio_of_padding.append(len(x)/num_of_zeros)\n",
    "        \n",
    "    \n",
    "    return r, ratio_of_padding   "
   ]
  },
  {
   "cell_type": "code",
   "execution_count": 88,
   "id": "58add2a9",
   "metadata": {},
   "outputs": [],
   "source": [
    "mu, sigma = 0, 3"
   ]
  },
  {
   "cell_type": "code",
   "execution_count": 95,
   "id": "c26215bb",
   "metadata": {},
   "outputs": [
    {
     "name": "stdout",
     "output_type": "stream",
     "text": [
      "[10 11 12 13 14 15 16 17 18 19]\n",
      "[13.402502773032753, 10.58666927691781, 6.36120424521987, 14.895940515068066, 10.388621908630308, 16.00164265369218, 16.547003521180567, 13.510031175730177, 13.109012961521131, 18.01851999194665]\n"
     ]
    }
   ],
   "source": [
    "x = np.arange(10, 20)\n",
    "# y = np.array([2, 1, 4, 5, 8, 12, 18, 25, 96, 48])\n",
    "y = [k + np.random.normal(mu, sigma, 1)[0] for k in x]\n",
    "print(x)\n",
    "print(y)"
   ]
  },
  {
   "cell_type": "code",
   "execution_count": 96,
   "id": "6ad0aaa2",
   "metadata": {},
   "outputs": [
    {
     "name": "stdout",
     "output_type": "stream",
     "text": [
      "[[1.         0.56221753]\n",
      " [0.56221753 1.        ]]\n"
     ]
    }
   ],
   "source": [
    "actual_corr = np.corrcoef(x, y)\n",
    "print(actual_corr)"
   ]
  },
  {
   "cell_type": "code",
   "execution_count": 97,
   "id": "61dd3973",
   "metadata": {},
   "outputs": [
    {
     "data": {
      "image/png": "[encoded data removed]",
      "text/plain": [
       "<Figure size 432x288 with 1 Axes>"
      ]
     },
     "metadata": {
      "needs_background": "light"
     },
     "output_type": "display_data"
    }
   ],
   "source": [
    "plt.plot(x, y, '.')\n",
    "plt.show()"
   ]
  },
  {
   "cell_type": "code",
   "execution_count": 98,
   "id": "b9cefe57",
   "metadata": {},
   "outputs": [],
   "source": [
    "r, ratio_of_padding = check_corr_coef_matched(x, y)"
   ]
  },
  {
   "cell_type": "code",
   "execution_count": 99,
   "id": "929c671a",
   "metadata": {},
   "outputs": [],
   "source": [
    "r.append(actual_corr[0][1])\n",
    "ratio_of_padding.append(11)"
   ]
  },
  {
   "cell_type": "code",
   "execution_count": 100,
   "id": "55c74049",
   "metadata": {},
   "outputs": [
    {
     "data": {
      "image/png": "[encoded data removed]",
      "text/plain": [
       "<Figure size 432x288 with 1 Axes>"
      ]
     },
     "metadata": {
      "needs_background": "light"
     },
     "output_type": "display_data"
    }
   ],
   "source": [
    "plt.plot(ratio_of_padding, r, '.')\n",
    "plt.show()"
   ]
  },
  {
   "cell_type": "markdown",
   "id": "5fbac2ab",
   "metadata": {},
   "source": [
    "As can be seen, when the zeros in both arrays are perfectly matched, the correlation coefficient increases with the number of zeros. The value at x = 11 is the correlation of the non-padded arrays. "
   ]
  },
  {
   "cell_type": "code",
   "execution_count": 118,
   "id": "8ea53229",
   "metadata": {},
   "outputs": [],
   "source": [
    "r_not_matched, ratio_of_padding_not_matched = check_corr_coef_not_matched(x, y, mu, sigma)"
   ]
  },
  {
   "cell_type": "code",
   "execution_count": 119,
   "id": "ebe5734f",
   "metadata": {},
   "outputs": [],
   "source": [
    "r_not_matched.append(actual_corr[0][1])\n",
    "ratio_of_padding_not_matched.append(11)"
   ]
  },
  {
   "cell_type": "code",
   "execution_count": 120,
   "id": "d934d1c3",
   "metadata": {},
   "outputs": [
    {
     "data": {
      "image/png": "[encoded data removed]",
      "text/plain": [
       "<Figure size 432x288 with 1 Axes>"
      ]
     },
     "metadata": {
      "needs_background": "light"
     },
     "output_type": "display_data"
    }
   ],
   "source": [
    "plt.plot(ratio_of_padding_not_matched, r_not_matched, '.')\n",
    "plt.show()"
   ]
  },
  {
   "cell_type": "markdown",
   "id": "cb5bcb0c",
   "metadata": {},
   "source": [
    "If 10% of the padded zero values in one array are matched with non-zero values at the other array, it strongly impact the correlation from when the ratio of the padding to the original size array (here it is len(x) = len(y) = 10) is lower than 1 -> the padding is higher than 10 (so now x is = [0 0 0 0 0 0 0 0 0 0] + x). "
   ]
  },
  {
   "cell_type": "code",
   "execution_count": 121,
   "id": "1535ced4",
   "metadata": {},
   "outputs": [],
   "source": [
    "r_not_matched, ratio_of_padding_not_matched = check_corr_coef_not_matched(x, y, mu, sigma, prob = 0.5)"
   ]
  },
  {
   "cell_type": "code",
   "execution_count": 122,
   "id": "894e6e1b",
   "metadata": {},
   "outputs": [],
   "source": [
    "r_not_matched.append(actual_corr[0][1])\n",
    "ratio_of_padding_not_matched.append(11)"
   ]
  },
  {
   "cell_type": "code",
   "execution_count": 123,
   "id": "ff925110",
   "metadata": {},
   "outputs": [
    {
     "data": {
      "image/png": "[encoded data removed]",
      "text/plain": [
       "<Figure size 432x288 with 1 Axes>"
      ]
     },
     "metadata": {
      "needs_background": "light"
     },
     "output_type": "display_data"
    }
   ],
   "source": [
    "plt.plot(ratio_of_padding_not_matched, r_not_matched, '.')\n",
    "plt.show()"
   ]
  },
  {
   "cell_type": "markdown",
   "id": "f2d7c915",
   "metadata": {},
   "source": [
    "And this is how it looks for when 50% of the padded zero are not matched. Obviously, the correlation goes down. "
   ]
  }
 ],
 "metadata": {
  "kernelspec": {
   "display_name": "Python 3",
   "language": "python",
   "name": "python3"
  },
  "language_info": {
   "codemirror_mode": {
    "name": "ipython",
    "version": 3
   },
   "file_extension": ".py",
   "mimetype": "text/x-python",
   "name": "python",
   "nbconvert_exporter": "python",
   "pygments_lexer": "ipython3",
   "version": "3.8.8"
  }
 },
 "nbformat": 4,
 "nbformat_minor": 5
}
