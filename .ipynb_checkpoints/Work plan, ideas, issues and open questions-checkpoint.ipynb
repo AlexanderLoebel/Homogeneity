{
 "cells": [
  {
   "cell_type": "markdown",
   "id": "8e26d7c9",
   "metadata": {},
   "source": [
    "<a id='back_to_top'></a>"
   ]
  },
  {
   "cell_type": "markdown",
   "id": "34b86bf2",
   "metadata": {},
   "source": [
    "## Table of Content\n",
    "\n",
    "- ### [Work Plan](#work_plan)\n",
    "- ### [Observations about the Data](#observations)\n",
    "    - #### [The following features should be related](#features_related)\n",
    "    - #### [Comments from \"Exploratory Data Analysis of the historical features - Part 1\"](#comments_part_1)\n",
    "- ### [Ideas](#ideas)\n",
    "- ### [Issues](#issues)\n",
    "- ### [Open Questions](#questions)  \n",
    "<br>\n",
    "<br>\n",
    "<br>\n",
    "<br>\n",
    "<br>\n",
    "<br>\n",
    "<br>\n",
    "<br>"
   ]
  },
  {
   "cell_type": "markdown",
   "id": "05c4f035",
   "metadata": {},
   "source": [
    "[back to top](#back_to_top)  <a id='work_plan'></a>"
   ]
  },
  {
   "cell_type": "markdown",
   "id": "7a2e5c9a",
   "metadata": {},
   "source": [
    "# Work Plan "
   ]
  },
  {
   "cell_type": "markdown",
   "id": "5e2f5b59",
   "metadata": {},
   "source": [
    "(in order of projectd progress)\n",
    "  \n",
    "iiiii"
   ]
  },
  {
   "cell_type": "markdown",
   "id": "e8702cf3",
   "metadata": {},
   "source": [
    "[back to top](#back_to_top)  <a id='observations'></a>"
   ]
  },
  {
   "cell_type": "markdown",
   "id": "bc43997a",
   "metadata": {},
   "source": [
    "# Observations about the Data  <a id='features_related'></a>"
   ]
  },
  {
   "cell_type": "markdown",
   "id": "0cdbe4e3",
   "metadata": {},
   "source": [
    "## The following features should be very much related: \n",
    "  \n",
    "\n",
    "- **is_elite, is_vip** - If a user is vip then it is also elite (but given the numbers of users in each category, being an elite user doesn't mean they are also vip). Also, if a user is elite/vip, their revenue and number of transactions is higher than the average user (practically by defintion). <font color='red'>Still need to confirm this -> that there is an overlap between the elite and vip. The alternative is that there are three distinct classes of users - not elite or vip, elite, and vip. </font>\n",
    "  \n",
    "  \n",
    "- **Lifetime_Revenue_Net, Last_30D_Revenue_Net, Last_90D_Revenue_Net, Last_30D_Transactions** (correlation coefficients between this variables are indeed quite high). \n",
    "\n",
    "\n",
    "- **level, level_bracket** - if a user has a higher level, than it is also at a higher level bracket.   \n",
    "<font color='red'>Still need to confirm this in the analysis. </font>\n",
    "\n",
    "\n",
    "- **credits_balance_EOD, coins_balance_EOD** - There should also be relation to **level and level bracket**, that is, the higher the balance the higher the user level is. <font color='red'>Still need to confirm this latter assertion in the analysis. </font>\n",
    "\n",
    "\n",
    "- **Last_30D_Gross_Sink, Last_90D_Gross_Sink** (analysis confirm this). \n",
    "\n",
    "\n",
    "- **Last_30D_Login_days, Last_90D_Login_days** - Ca. **70%** of the users has **not login** even once in the **last 30 days**, and ca. **60%** has **not login** even once in the **last 90 days**. For all of these users, all of the features that refer to this time window (e.g., Last_30D_Revenue_Net or Last_90D_Gross_Sink) have, by definition, zero value (as zero logins means zero revenue or sink). "
   ]
  },
  {
   "cell_type": "markdown",
   "id": "91f9fdbf",
   "metadata": {},
   "source": [
    "[back to top](#back_to_top)  <a id='comments_part_1'></a>"
   ]
  },
  {
   "cell_type": "markdown",
   "id": "fc430939",
   "metadata": {},
   "source": [
    "## Comments from \"Exploratory Data Analysis of the historical features - Part 1\"\n",
    "\n",
    "1. **Selecting features by their entropy**: \n",
    "    - The entorpy of many of the features is very low. For example, the 'is_vip' feature -> almost all of the users are not VIP. \n",
    "    - Other such features are 'is_elite', and the revenue features (in the last 30 days, ca. 94% of the users have zero revenue in that time period). \n",
    "    - Such features most probably doesn't contribute to the segmentation, and so they should be ignored (but see pt.3 below). \n",
    "    - That is, if all features had a uniform distribution (maximal entropy) over the users, it would have been easier to segment the users into evenly sized seperate groups. However, with the distributions of the users for almost all the features being highly skewed (e.g., very few users at the high level brackets, with the vast majority of the users at the lower brackets), it is not clear how to reach a segmentation beyond the trivial clusters determined by the features distributions. \n",
    "    - This is especially the case, as many of the features are highly correlated, or at least highly related: vip users are also those with the higher revenues and at the higher level brackets, practically by definition. \n",
    "    - <font color='red'>Such feature selection implicitly takes place when performing dimensionality reduction on the feature space, like with **PCA** (**any other approach?**). So performing PCA and then choosing only the few most significant principles components will filter out the less informative features.</font> \n",
    "    - <font color='red'>Still to check: how long does it takes to do PCA on a 5x10^6 x 20 feature table, and if it takes very long, find approximate solution -> perform the PCA on a smaller data set, or simply drop features with low entropy (like the 'is_vip' feature).</font>    \n",
    "    \n",
    "\n",
    "2. **Obvious segments without even clustering or any other techniques**: \n",
    "    - Some of the features that has very low entropy create immidate segments. For example, if the target function is revenue, then the VIP users, although relatively very few from the overall population, represent a segment of their own. \n",
    "    - This is of course trivial -> most probably a user recieves the VIP status because of high frequency of deposits -> this can greatly simplify the segmentation step in many cases. As in, after the trivial segments are built, other segments can be estimated from clusters on raw data that doesn't include these trivial features.  \n",
    "    \n",
    "    \n",
    "3. **Segmentation with the target KPI in mind**: \n",
    "    - If the target KPI is **revenue**, then there are several issues that stems from that this is a **very sparse KPI**. \n",
    "    - That is, most of the users in the data-set has zero past revenue, and will have zero revenue in the future. \n",
    "    - In addition, there are very few features, if at all, that provide a good prediction to whether a user will make future deposits (as obvious from that in the LTV project no model exist for predicting the future revenue at the user level, and no such model exist for active users). \n",
    "    - So most possible the best segmentation in this case of revenue as the KPI (especially if it has a short horizon of a few days), is to take the naive segmentation of two groups: the first, is of \"all users that deposited in the past\", and the second is \"all users that had no past deposits\". The first (much smaller) segment could be further segmented into smaller groups. \n",
    "    - In addition, it is predicted that adding features (that are not revenue related) to the segmentation would only reduce the homogeniety of the segments. \n",
    "    - Thus, this is a clear case of an obvious feature-set to consider for the segmentation for a specific target KPI, if the homogeneity is to be optimized. Any other more sophisticated algorithm will most probably fail. <font color='red'>**And so the question is: what is the view of the product/studio for such a case?**</font>\n",
    "    - to check: most probably running a CatBoost on the overall raw past feature set will result with the revenue features being the most important ones to predict future revenue, in-line with using such a model as a general solution for the task at hand.   \n",
    "\n",
    "\n"
   ]
  },
  {
   "cell_type": "markdown",
   "id": "0f6e4630",
   "metadata": {},
   "source": [
    "[back to top](#back_to_top)  <a id='ideas'></a>"
   ]
  },
  {
   "cell_type": "markdown",
   "id": "17923824",
   "metadata": {},
   "source": [
    "# Ideas"
   ]
  },
  {
   "cell_type": "markdown",
   "id": "8ae8da1c",
   "metadata": {},
   "source": [
    "### Possible things to do: \n",
    "\n",
    "- <font color='blue'>Randomly select a few sets of three features, and for each set cluster the users (10 clusters using Kmeans), and examine whether the homogeneity of the target KPI values is significantly different for the different clusters' sets.</font>"
   ]
  },
  {
   "cell_type": "markdown",
   "id": "e8d1ed6a",
   "metadata": {},
   "source": [
    "[back to top](#back_to_top)  <a id='issues'></a>"
   ]
  },
  {
   "cell_type": "markdown",
   "id": "61cb40a4",
   "metadata": {},
   "source": [
    "# Issues"
   ]
  },
  {
   "cell_type": "markdown",
   "id": "51fa9392",
   "metadata": {},
   "source": [
    "[back to top](#back_to_top)  <a id='questions'></a>"
   ]
  },
  {
   "cell_type": "markdown",
   "id": "dfbddabc",
   "metadata": {},
   "source": [
    "# Open Questions "
   ]
  },
  {
   "cell_type": "markdown",
   "id": "56009784",
   "metadata": {},
   "source": [
    "- <font color='red'>The meaning of the targets: \n",
    "    - 'Revenue' means the new total revenue of a user for the date of the target query? so the total revenue in 1.10.2022 (when the segmentation/clustering is done at) was 10$, and we want to check for a target of revenue after 10 days, so if the revenue on the 10.10.2022 is 14$, it means that in this 10 days the user deposited 4$ in total? \n",
    "    - 'Level Ups' means the number of levels a user was up in the period between the query for the clustering and the query for the target? \n",
    "    - 'Mode Number' means the current mode of the user, and the purpose is to see if by the time of the target query it went up or down? (can the mode number go down, or can it only go up?) </font>\n",
    "\n",
    "\n",
    "- <font color='red'>There are users with negative 'Lifetime_Revenue_Net'. Need to check is it is a bug, and if not, how to treat such users. </font>\n",
    "\n",
    "\n",
    "- <font color='red'>Is coins and credits balance end-of-day is the last value for a user had for these features? (so, user 872 had 12 coins and 78 credits as she left the app the last time she used it)</font>\n",
    "\n",
    "\n",
    "- <font color='red'>What does the number of bingo rounds refers to? the average rounds a user play per day? the number of rounds a user had at their last time playing the app? some other value? </font>\n",
    "\n",
    "\n",
    "- <font color='red'>trstier - how this feature is defined? and from its definition, it will be clearer how it is related to other features, such as level, level bracket, credit balance, coin balance, is vip and is elite.</font> \n",
    "\n",
    "\n",
    "- <font color='red'>What do the modes 1 to 6 refers to? (in the total_rounds_mode_X features)</font> From the answer to this question, it will be clearer how the modes relates to one another. \n",
    "\n",
    "\n",
    "- <font color='red'>When segmenting, is there a goal/constraint to have segments with similar number of users? or can it be that one segment has million users, and the other only 10?</font> \n",
    "\n",
    "\n",
    "- <font color='red'>It could be that with random initialization of the cluster centers, relatively small clusters of users are being missed (due to the imbalance of the data in almost all the features).</font> I should be able to check this with a few simple examples."
   ]
  }
 ],
 "metadata": {
  "kernelspec": {
   "display_name": "Python 3",
   "language": "python",
   "name": "python3"
  },
  "language_info": {
   "codemirror_mode": {
    "name": "ipython",
    "version": 3
   },
   "file_extension": ".py",
   "mimetype": "text/x-python",
   "name": "python",
   "nbconvert_exporter": "python",
   "pygments_lexer": "ipython3",
   "version": "3.8.8"
  }
 },
 "nbformat": 4,
 "nbformat_minor": 5
}
